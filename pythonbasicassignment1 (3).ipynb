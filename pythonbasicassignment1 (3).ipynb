{
  "nbformat": 4,
  "nbformat_minor": 0,
  "metadata": {
    "colab": {
      "provenance": []
    },
    "kernelspec": {
      "name": "python3",
      "display_name": "Python 3"
    },
    "language_info": {
      "name": "python"
    }
  },
  "cells": [
    {
      "cell_type": "code",
      "execution_count": null,
      "metadata": {
        "id": "m9IQ-nmA7bVB"
      },
      "outputs": [],
      "source": []
    },
    {
      "cell_type": "markdown",
      "source": [
        "# ***1.Explain the key features of Python that make it a popular choice for programming .***\n",
        "\n",
        " Python is a general purpose programming language that is used for web development,software programming,data science and many more uses.\n",
        "\n",
        " key features -:\n",
        "\n",
        "  1-Readability - Phython's syntax is very easy to read and understand.\n",
        "  \n",
        "  2-Simplicity - It is a good choice for beginners and experienced developers.\n",
        "\n",
        "  3-Versatility- Used to create a verity of different programs .\n",
        "\n",
        "   4-Open Source - Making it freely useable and distributable.\n",
        "\n",
        "   5-Huge active community and all optimized well writen codes are already added and a lot of libraries (137000 liabraries )\n",
        "\n",
        "\n",
        "\n"
      ],
      "metadata": {
        "id": "VTVe1rZD9qg_"
      }
    },
    {
      "cell_type": "markdown",
      "source": [
        "# **2.Describe the role of predefined keywords in Python and provide examples of how they are used in a program ?**\n",
        "\n",
        "A keyword refers to a predefined word that python reserves for working programs that have a specific meaning, You can’t use a keyword anywhere else.\n",
        "so in python predefined keyword are case sensitive.Keyword can't be used for name as variable.\n",
        "It is green colour and bold.So there are 35 keywords are there in phython.\n",
        "example - True ,False ,None ( True =1 & Flase = 0 ) etc .\n",
        "\n",
        " Here are some examples -"
      ],
      "metadata": {
        "id": "7DKQ7hHm_Vl8"
      }
    },
    {
      "cell_type": "code",
      "source": [
        "a=\"pwskills\"\n",
        "\"p\" in a"
      ],
      "metadata": {
        "colab": {
          "base_uri": "https://localhost:8080/"
        },
        "id": "YwPvgfGr_714",
        "outputId": "23aea044-4fad-4e29-d655-f3163650baef"
      },
      "execution_count": 7,
      "outputs": [
        {
          "output_type": "execute_result",
          "data": {
            "text/plain": [
              "True"
            ]
          },
          "metadata": {},
          "execution_count": 7
        }
      ]
    },
    {
      "cell_type": "code",
      "source": [
        "\"z\" in a"
      ],
      "metadata": {
        "colab": {
          "base_uri": "https://localhost:8080/"
        },
        "id": "pC4i42XHAMdk",
        "outputId": "5043fc67-0eb4-4406-fb7c-b9707bc9aa40"
      },
      "execution_count": 8,
      "outputs": [
        {
          "output_type": "execute_result",
          "data": {
            "text/plain": [
              "False"
            ]
          },
          "metadata": {},
          "execution_count": 8
        }
      ]
    },
    {
      "cell_type": "markdown",
      "source": [],
      "metadata": {
        "id": "2IY6-kBB7eYA"
      }
    },
    {
      "cell_type": "markdown",
      "source": [
        "# **3 .Compare and contrast mutable and immutable objects in Python with examples.**\n",
        "\n",
        "**Mutable Objects** - Objects or container whose state or value can be changed after they are created are called as mutable objects.\n",
        "                  Examples - Lists, dictionaries, sets.\n",
        "                  Can modify in place without creating a new object.\n",
        "                  Mutability affects how objects are stored and manipulated in memory, impacting performance, memory usage, and concurrency in Python                     programs.\n",
        "    \n",
        "**Immutable Objects** - Objects or container whose state or value can not be changed after they are created are called as immutable objects.\n",
        "                     Examples - Integers, floats, strings\n",
        "                     Creating a new object is required when attempting to modify.\n",
        "\n",
        "Here are some examples -"
      ],
      "metadata": {
        "id": "kzUj5IOeAqlS"
      }
    },
    {
      "cell_type": "markdown",
      "source": [],
      "metadata": {
        "id": "BmfBSkkD7gex"
      }
    },
    {
      "cell_type": "code",
      "source": [
        "#example of Mutable Objects -\n",
        "list_count = [1,2,4.5,\"soumya ray\"]\n",
        "list_count[0]=5\n",
        "print(list_count)\n"
      ],
      "metadata": {
        "colab": {
          "base_uri": "https://localhost:8080/"
        },
        "id": "LmzFFvN1BQIf",
        "outputId": "9d1b8959-6486-4dcc-a985-acc6062daadc"
      },
      "execution_count": 9,
      "outputs": [
        {
          "output_type": "stream",
          "name": "stdout",
          "text": [
            "[5, 2, 4.5, 'soumya ray']\n"
          ]
        }
      ]
    },
    {
      "cell_type": "code",
      "source": [
        "#example of Mutable Objects -\n",
        "a = (\"soumyaray\")\n",
        "a[0]= 'p'\n",
        "print(a)\n",
        "\n",
        "#so string is an immutable object"
      ],
      "metadata": {
        "colab": {
          "base_uri": "https://localhost:8080/",
          "height": 211
        },
        "id": "bw36C7oKBW6E",
        "outputId": "f38342b9-55c3-4a78-9498-a64cec632cdd"
      },
      "execution_count": 11,
      "outputs": [
        {
          "output_type": "error",
          "ename": "TypeError",
          "evalue": "'str' object does not support item assignment",
          "traceback": [
            "\u001b[0;31m---------------------------------------------------------------------------\u001b[0m",
            "\u001b[0;31mTypeError\u001b[0m                                 Traceback (most recent call last)",
            "\u001b[0;32m<ipython-input-11-e86404ae8ded>\u001b[0m in \u001b[0;36m<cell line: 0>\u001b[0;34m()\u001b[0m\n\u001b[1;32m      1\u001b[0m \u001b[0;31m#example of Mutable Objects -\u001b[0m\u001b[0;34m\u001b[0m\u001b[0;34m\u001b[0m\u001b[0m\n\u001b[1;32m      2\u001b[0m \u001b[0ma\u001b[0m \u001b[0;34m=\u001b[0m \u001b[0;34m(\u001b[0m\u001b[0;34m\"soumyaray\"\u001b[0m\u001b[0;34m)\u001b[0m\u001b[0;34m\u001b[0m\u001b[0;34m\u001b[0m\u001b[0m\n\u001b[0;32m----> 3\u001b[0;31m \u001b[0ma\u001b[0m\u001b[0;34m[\u001b[0m\u001b[0;36m0\u001b[0m\u001b[0;34m]\u001b[0m\u001b[0;34m=\u001b[0m \u001b[0;34m'p'\u001b[0m\u001b[0;34m\u001b[0m\u001b[0;34m\u001b[0m\u001b[0m\n\u001b[0m\u001b[1;32m      4\u001b[0m \u001b[0mprint\u001b[0m\u001b[0;34m(\u001b[0m\u001b[0ma\u001b[0m\u001b[0;34m)\u001b[0m\u001b[0;34m\u001b[0m\u001b[0;34m\u001b[0m\u001b[0m\n\u001b[1;32m      5\u001b[0m \u001b[0;34m\u001b[0m\u001b[0m\n",
            "\u001b[0;31mTypeError\u001b[0m: 'str' object does not support item assignment"
          ]
        }
      ]
    },
    {
      "cell_type": "markdown",
      "source": [
        "# 4.**Discuss** the different types of operators in Python and provide examples of how they are used ?\n",
        "\n",
        "Operators are speacial keywords or symbols that are used to perform some operations on values or variables.\n",
        "We want to manage data,do computation and make decision using data.\n",
        "There are different types of operators in Phython and they are having different types of work .\n",
        "1. Arithmetic Operator\n",
        "2. Logical Operator\n",
        "3. Comparison Operator\n",
        "4. Membership Operator\n",
        "5. Identity Operator\n",
        "6. Assignment Operator and more"
      ],
      "metadata": {
        "id": "FhyEE74rCXDl"
      }
    },
    {
      "cell_type": "code",
      "source": [
        "#Arithmetic Operator\n",
        "x=2\n",
        "y=5\n",
        "print(x+y)\n",
        "#here + is worked as additional Operator\n",
        "print(x-y)\n",
        "print(x/y)\n",
        "print(x%y)\n",
        "print(x**y)\n",
        "print(x//y)"
      ],
      "metadata": {
        "colab": {
          "base_uri": "https://localhost:8080/"
        },
        "id": "U7UFzOE1GQ8d",
        "outputId": "b6f8be66-b6b5-47cc-bb83-7f705819b461"
      },
      "execution_count": 16,
      "outputs": [
        {
          "output_type": "stream",
          "name": "stdout",
          "text": [
            "7\n",
            "-3\n",
            "0.4\n",
            "2\n",
            "32\n",
            "0\n"
          ]
        }
      ]
    },
    {
      "cell_type": "code",
      "source": [
        "#Logical Operator\n",
        "x=5\n",
        "y=10\n",
        "z=15\n",
        "print(x>y and x>z)\n",
        "print(x>y or x>z)\n",
        "print(not(x>y and x>z))"
      ],
      "metadata": {
        "colab": {
          "base_uri": "https://localhost:8080/"
        },
        "id": "K7zct25HG8eN",
        "outputId": "d6e4ecbb-7794-45c9-9a90-cdde4af8219d"
      },
      "execution_count": 17,
      "outputs": [
        {
          "output_type": "stream",
          "name": "stdout",
          "text": [
            "False\n",
            "False\n",
            "True\n"
          ]
        }
      ]
    },
    {
      "cell_type": "code",
      "source": [
        "#Comparison Operator\n",
        "x=10\n",
        "y=4\n",
        "print(x==y)\n",
        "print(x!=y)\n",
        "print(x>y)\n",
        "print(x<y)\n",
        "print(x>=y)\n"
      ],
      "metadata": {
        "colab": {
          "base_uri": "https://localhost:8080/"
        },
        "id": "F8_njvW_IcuR",
        "outputId": "515189df-a49a-42ff-cfc1-aacdbd71ed13"
      },
      "execution_count": 18,
      "outputs": [
        {
          "output_type": "stream",
          "name": "stdout",
          "text": [
            "False\n",
            "True\n",
            "True\n",
            "False\n",
            "True\n"
          ]
        }
      ]
    },
    {
      "cell_type": "code",
      "source": [
        "#floor Operator - Bring the Value Lower side\n",
        "4//3"
      ],
      "metadata": {
        "colab": {
          "base_uri": "https://localhost:8080/"
        },
        "id": "ny9ISWyxIufb",
        "outputId": "3c787209-4dff-4045-d0a6-2e048f75b825"
      },
      "execution_count": 19,
      "outputs": [
        {
          "output_type": "execute_result",
          "data": {
            "text/plain": [
              "1"
            ]
          },
          "metadata": {},
          "execution_count": 19
        }
      ]
    },
    {
      "cell_type": "code",
      "source": [
        "#not operator\n",
        "not True\n",
        "not False"
      ],
      "metadata": {
        "colab": {
          "base_uri": "https://localhost:8080/"
        },
        "id": "rVrkEJcbI-ht",
        "outputId": "55ec2a10-e449-43cf-f78f-47e311810e03"
      },
      "execution_count": 20,
      "outputs": [
        {
          "output_type": "execute_result",
          "data": {
            "text/plain": [
              "True"
            ]
          },
          "metadata": {},
          "execution_count": 20
        }
      ]
    },
    {
      "cell_type": "code",
      "source": [
        "#Identity Operator -compare the location of two objects\n",
        "a=2\n",
        "b=3\n",
        "a is not b\n"
      ],
      "metadata": {
        "colab": {
          "base_uri": "https://localhost:8080/"
        },
        "id": "X9f667EHJNAg",
        "outputId": "5017dfcf-0a44-429f-c19b-db5fc1a8b502"
      },
      "execution_count": 21,
      "outputs": [
        {
          "output_type": "execute_result",
          "data": {
            "text/plain": [
              "True"
            ]
          },
          "metadata": {},
          "execution_count": 21
        }
      ]
    },
    {
      "cell_type": "code",
      "source": [
        "#Membership operators\n",
        "a = (\"pwskills\")\n",
        "'p' in a"
      ],
      "metadata": {
        "colab": {
          "base_uri": "https://localhost:8080/"
        },
        "id": "l9sMlgkbJpHo",
        "outputId": "6234bafb-4c32-45be-c4bc-5669f89e18df"
      },
      "execution_count": 22,
      "outputs": [
        {
          "output_type": "execute_result",
          "data": {
            "text/plain": [
              "True"
            ]
          },
          "metadata": {},
          "execution_count": 22
        }
      ]
    },
    {
      "cell_type": "markdown",
      "source": [
        "# 5**. Explain the concept of type casting in Python with examples .**\n",
        "\n",
        "Type casting is also known as type conversion and it is the process of converting one data type into another.\n",
        "\n",
        " This can be done implicitly means it can done automatically or explicitly means it can done by using built-in functions like int(), float(), str().\n",
        "\n",
        " There is a best example -\n",
        "\n",
        " your name - Soumya Ray - String\n",
        "\n",
        " your age - 28 - Integer\n",
        "\n",
        " your weight - 65.7 -Float\n",
        "\n",
        " your gender- Male - boolean  \n",
        "  \n",
        "\n",
        "  **some special cases are there **---\n",
        "\n",
        " character can't be converted into number\n",
        "\n",
        " interger can't add with string directly"
      ],
      "metadata": {
        "id": "2oVsuqdmKFzo"
      }
    },
    {
      "cell_type": "code",
      "source": [
        "a=\"soumyaray\"\n",
        "type(a)\n"
      ],
      "metadata": {
        "colab": {
          "base_uri": "https://localhost:8080/"
        },
        "id": "z6h46-nAMsdF",
        "outputId": "5224362e-0ee2-4480-ac98-73c071fe152e"
      },
      "execution_count": 31,
      "outputs": [
        {
          "output_type": "execute_result",
          "data": {
            "text/plain": [
              "str"
            ]
          },
          "metadata": {},
          "execution_count": 31
        }
      ]
    },
    {
      "cell_type": "code",
      "source": [
        "a=2\n",
        "type(a)"
      ],
      "metadata": {
        "colab": {
          "base_uri": "https://localhost:8080/"
        },
        "id": "yj4hEmsKOJ6g",
        "outputId": "977a35ba-1b9b-4f1b-b434-55f25fda7373"
      },
      "execution_count": 32,
      "outputs": [
        {
          "output_type": "execute_result",
          "data": {
            "text/plain": [
              "int"
            ]
          },
          "metadata": {},
          "execution_count": 32
        }
      ]
    },
    {
      "cell_type": "code",
      "source": [
        "a=3.5\n",
        "type(a)"
      ],
      "metadata": {
        "colab": {
          "base_uri": "https://localhost:8080/"
        },
        "id": "OMpOh7LeO_7Z",
        "outputId": "7a9c0b90-b5ca-4662-d761-c6c8c8940133"
      },
      "execution_count": 34,
      "outputs": [
        {
          "output_type": "execute_result",
          "data": {
            "text/plain": [
              "float"
            ]
          },
          "metadata": {},
          "execution_count": 34
        }
      ]
    },
    {
      "cell_type": "code",
      "source": [
        "#now we can convert inter to float\n",
        "a=2\n",
        "b=float(a)\n",
        "print(b)\n",
        "type(b)\n",
        "# here 2 convert to 2.0 (float value)"
      ],
      "metadata": {
        "colab": {
          "base_uri": "https://localhost:8080/"
        },
        "id": "-7UkmOMJPB7Z",
        "outputId": "65d91da3-53d6-4844-9b71-3d0573ac66e1"
      },
      "execution_count": 37,
      "outputs": [
        {
          "output_type": "stream",
          "name": "stdout",
          "text": [
            "2.0\n"
          ]
        },
        {
          "output_type": "execute_result",
          "data": {
            "text/plain": [
              "float"
            ]
          },
          "metadata": {},
          "execution_count": 37
        }
      ]
    },
    {
      "cell_type": "code",
      "source": [
        "a=5\n",
        "b=str(a)\n",
        "print(b)\n",
        "type(b)\n",
        "#here integer convert to string"
      ],
      "metadata": {
        "colab": {
          "base_uri": "https://localhost:8080/"
        },
        "id": "305UB3UoPaPB",
        "outputId": "472e6a11-fbe6-42ea-b094-cae9475932cc"
      },
      "execution_count": 38,
      "outputs": [
        {
          "output_type": "stream",
          "name": "stdout",
          "text": [
            "5\n"
          ]
        },
        {
          "output_type": "execute_result",
          "data": {
            "text/plain": [
              "str"
            ]
          },
          "metadata": {},
          "execution_count": 38
        }
      ]
    },
    {
      "cell_type": "code",
      "source": [
        "a=\"soumya\"\n",
        "b=\"ray\"\n",
        "print(a+b)\n",
        "type(a+b)"
      ],
      "metadata": {
        "colab": {
          "base_uri": "https://localhost:8080/"
        },
        "id": "YQZ4pIYZQQuk",
        "outputId": "4d00e9d5-3267-4c29-925d-ccf6c693fae0"
      },
      "execution_count": 41,
      "outputs": [
        {
          "output_type": "stream",
          "name": "stdout",
          "text": [
            "soumyaray\n"
          ]
        },
        {
          "output_type": "execute_result",
          "data": {
            "text/plain": [
              "str"
            ]
          },
          "metadata": {},
          "execution_count": 41
        }
      ]
    },
    {
      "cell_type": "markdown",
      "source": [
        "# 6**. How do conditional statements work in Python? Illustrate with examples .**\n",
        "\n",
        "In Python we use conditional statements to control the flow of the program's execution based on whether a condition is true or false.\n",
        "so it enabling  to execute different blocks of code accordingly.\n",
        "\n",
        " In conditional statement we use differ condtions like\n",
        " 1. If conditon\n",
        " 2. If-else conditon\n",
        " 3. If-elif-else conditon\n",
        " 4. Nested If else conditon"
      ],
      "metadata": {
        "id": "1bEfJSiSRjWj"
      }
    },
    {
      "cell_type": "code",
      "source": [
        "#If condition\n",
        "\n",
        "temp =32\n",
        "if temp > 25 :\n",
        "  print(\"it's a hot day\")\n",
        "\n"
      ],
      "metadata": {
        "colab": {
          "base_uri": "https://localhost:8080/"
        },
        "id": "2kN1vahdUbS-",
        "outputId": "5ce6fa69-8e67-4e11-8e4f-9fb37945c10b"
      },
      "execution_count": 53,
      "outputs": [
        {
          "output_type": "stream",
          "name": "stdout",
          "text": [
            "it's a hot day\n"
          ]
        }
      ]
    },
    {
      "cell_type": "code",
      "source": [
        "# If-else condition\n",
        "weather =\"rainy\"\n",
        "if weather == \"rainy\":\n",
        "    print(\"I will not play cricket \")\n",
        "else:\n",
        "    print(\"I will watch cricket on Tv\")"
      ],
      "metadata": {
        "colab": {
          "base_uri": "https://localhost:8080/"
        },
        "id": "u-WsQhENXGLh",
        "outputId": "4791a948-efb4-4fdd-e339-8dca5bc25ce7"
      },
      "execution_count": 52,
      "outputs": [
        {
          "output_type": "stream",
          "name": "stdout",
          "text": [
            "I will not play cricket \n"
          ]
        }
      ]
    },
    {
      "cell_type": "code",
      "source": [
        "# If-elif-else condition\n",
        "score = 80\n",
        "if score >= 90:\n",
        "    print(\"Grade: A\")\n",
        "elif score >= 80:\n",
        "    print(\"Grade: B\")\n",
        "elif score >= 70:\n",
        "    print(\"Grade: C\")\n",
        "else:\n",
        "    print(\"Grade: D\")"
      ],
      "metadata": {
        "colab": {
          "base_uri": "https://localhost:8080/"
        },
        "id": "1fQEO_zaXSlX",
        "outputId": "f4ca2d2f-fd2e-4d74-bf4a-77e830734bc6"
      },
      "execution_count": 54,
      "outputs": [
        {
          "output_type": "stream",
          "name": "stdout",
          "text": [
            "Grade: B\n"
          ]
        }
      ]
    },
    {
      "cell_type": "code",
      "source": [
        "#nested if else\n",
        "x=1\n",
        "y=6\n",
        "if x>5 :\n",
        "    if y >5:\n",
        "        print(\"both are greater than 5\")\n",
        "    else:\n",
        "        print(\"x is greater than 5 but y is not\")\n",
        "else:\n",
        "    print (\"x is not greater tha 5 \")"
      ],
      "metadata": {
        "colab": {
          "base_uri": "https://localhost:8080/"
        },
        "id": "IwO8xFfrY79U",
        "outputId": "2ce96d6a-3234-44b1-e515-7f8c63673d0c"
      },
      "execution_count": 58,
      "outputs": [
        {
          "output_type": "stream",
          "name": "stdout",
          "text": [
            "x is not greater tha 5 \n"
          ]
        }
      ]
    },
    {
      "cell_type": "markdown",
      "source": [
        "# 7.Describe the different types of loops in Python and their use cases with examples.\n",
        "\n",
        "In Phython loops allows you to execute a block of code repeatedly.Python offers two primary loop types: for and while, each serving distinct purposes.\n",
        "\n",
        "for loop -\n",
        "\n",
        " Iterates over a sequence of elements, executing a block of code for each item.Processing elements in a lists, strings .\n",
        "\n",
        " Iterating over a range of numbers using the range()function.\n",
        "\n",
        " While loop -\n",
        "\n",
        " Executes a block of code repeatedly as long as a specified condition is true.\n",
        " Handling user input until valid input is received.\n",
        "\n",
        "\n"
      ],
      "metadata": {
        "id": "lGNwAx4-Zy0j"
      }
    },
    {
      "cell_type": "code",
      "source": [
        " # while loop\n",
        " n= 6\n",
        " i = 1\n",
        " while i<n:\n",
        "  print (i)\n",
        "  i=i+1"
      ],
      "metadata": {
        "colab": {
          "base_uri": "https://localhost:8080/"
        },
        "id": "4JuNpgaTmC9M",
        "outputId": "a53fdb8a-dd25-471c-bad0-0c3c7aa1a589"
      },
      "execution_count": 65,
      "outputs": [
        {
          "output_type": "stream",
          "name": "stdout",
          "text": [
            "1\n",
            "2\n",
            "3\n",
            "4\n",
            "5\n"
          ]
        }
      ]
    },
    {
      "cell_type": "code",
      "source": [
        "#For Loop\n",
        "for i in \"pwskills\":\n",
        "    print(i)"
      ],
      "metadata": {
        "colab": {
          "base_uri": "https://localhost:8080/"
        },
        "id": "SewPNZq8cdqr",
        "outputId": "c0767369-d528-430f-e8cf-46bbb84f4e81"
      },
      "execution_count": 61,
      "outputs": [
        {
          "output_type": "stream",
          "name": "stdout",
          "text": [
            "p\n",
            "w\n",
            "s\n",
            "k\n",
            "i\n",
            "l\n",
            "l\n",
            "s\n"
          ]
        }
      ]
    }
  ]
}